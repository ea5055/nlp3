{
  "nbformat": 4,
  "nbformat_minor": 0,
  "metadata": {
    "kernelspec": {
      "display_name": "Python 3",
      "language": "python",
      "name": "python3"
    },
    "language_info": {
      "codemirror_mode": {
        "name": "ipython",
        "version": 3
      },
      "file_extension": ".py",
      "mimetype": "text/x-python",
      "name": "python",
      "nbconvert_exporter": "python",
      "pygments_lexer": "ipython3",
      "version": "3.7.5"
    },
    "colab": {
      "name": "event3-bakus.ipynb",
      "provenance": [],
      "collapsed_sections": [],
      "toc_visible": true,
      "include_colab_link": true
    }
  },
  "cells": [
    {
      "cell_type": "markdown",
      "metadata": {
        "id": "view-in-github",
        "colab_type": "text"
      },
      "source": [
        "<a href=\"https://colab.research.google.com/github/ea5055/nlp3/blob/master/event3_bakus.ipynb\" target=\"_parent\"><img src=\"https://colab.research.google.com/assets/colab-badge.svg\" alt=\"Open In Colab\"/></a>"
      ]
    },
    {
      "cell_type": "markdown",
      "metadata": {
        "id": "WVCoUOLX3mTg",
        "colab_type": "text"
      },
      "source": [
        "# NLP Cup Event #3"
      ]
    },
    {
      "cell_type": "code",
      "metadata": {
        "id": "E0VyvRyb3mTh",
        "colab_type": "code",
        "colab": {}
      },
      "source": [
        "import pandas as pd\n",
        "import numpy as np\n",
        "\n",
        "from IPython.core.interactiveshell import InteractiveShell\n",
        "InteractiveShell.ast_node_interactivity = \"all\""
      ],
      "execution_count": 0,
      "outputs": []
    },
    {
      "cell_type": "code",
      "metadata": {
        "id": "69YMnwA83mTk",
        "colab_type": "code",
        "outputId": "ab9c2b3b-9fd8-49fe-c806-cfcf916f43a6",
        "colab": {
          "base_uri": "https://localhost:8080/",
          "height": 34
        }
      },
      "source": [
        "import sklearn\n",
        "print('The scikit-learn version is {}.'.format(sklearn.__version__))"
      ],
      "execution_count": 0,
      "outputs": [
        {
          "output_type": "stream",
          "text": [
            "The scikit-learn version is 0.22.2.post1.\n"
          ],
          "name": "stdout"
        }
      ]
    },
    {
      "cell_type": "code",
      "metadata": {
        "id": "cTwcgVxL3mTn",
        "colab_type": "code",
        "outputId": "5e0af3a0-b91d-449a-de58-3bc69f1be129",
        "colab": {
          "base_uri": "https://localhost:8080/",
          "height": 34
        }
      },
      "source": [
        "import os\n",
        "os.getcwd()"
      ],
      "execution_count": 0,
      "outputs": [
        {
          "output_type": "execute_result",
          "data": {
            "text/plain": [
              "'/content'"
            ]
          },
          "metadata": {
            "tags": []
          },
          "execution_count": 2
        }
      ]
    },
    {
      "cell_type": "code",
      "metadata": {
        "id": "Vdt59yQH5VLr",
        "colab_type": "code",
        "outputId": "7414e465-0540-428c-e266-8ebd6289fbf1",
        "colab": {
          "base_uri": "https://localhost:8080/",
          "height": 54
        }
      },
      "source": [
        "from google.colab import drive\n",
        "drive.mount('/content/drive')"
      ],
      "execution_count": 0,
      "outputs": [
        {
          "output_type": "stream",
          "text": [
            "Drive already mounted at /content/drive; to attempt to forcibly remount, call drive.mount(\"/content/drive\", force_remount=True).\n"
          ],
          "name": "stdout"
        }
      ]
    },
    {
      "cell_type": "code",
      "metadata": {
        "id": "iyuSVWxj5ej6",
        "colab_type": "code",
        "colab": {}
      },
      "source": [
        "PATH = 'drive/My Drive/Colab Notebooks/'"
      ],
      "execution_count": 0,
      "outputs": []
    },
    {
      "cell_type": "code",
      "metadata": {
        "id": "ZLuUY9nd3mTq",
        "colab_type": "code",
        "outputId": "a994af5c-aa93-4d01-e86d-e8ecdf8c65da",
        "colab": {
          "base_uri": "https://localhost:8080/",
          "height": 374
        }
      },
      "source": [
        "df = pd.read_csv(os.path.join(PATH, \"spamraw_train.csv\"))\n",
        "df.info()\n",
        "df.head()"
      ],
      "execution_count": 0,
      "outputs": [
        {
          "output_type": "stream",
          "text": [
            "<class 'pandas.core.frame.DataFrame'>\n",
            "RangeIndex: 5000 entries, 0 to 4999\n",
            "Data columns (total 3 columns):\n",
            " #   Column    Non-Null Count  Dtype \n",
            "---  ------    --------------  ----- \n",
            " 0   id        5000 non-null   int64 \n",
            " 1   sms_text  5000 non-null   object\n",
            " 2   spam      5000 non-null   int64 \n",
            "dtypes: int64(2), object(1)\n",
            "memory usage: 117.3+ KB\n"
          ],
          "name": "stdout"
        },
        {
          "output_type": "execute_result",
          "data": {
            "text/html": [
              "<div>\n",
              "<style scoped>\n",
              "    .dataframe tbody tr th:only-of-type {\n",
              "        vertical-align: middle;\n",
              "    }\n",
              "\n",
              "    .dataframe tbody tr th {\n",
              "        vertical-align: top;\n",
              "    }\n",
              "\n",
              "    .dataframe thead th {\n",
              "        text-align: right;\n",
              "    }\n",
              "</style>\n",
              "<table border=\"1\" class=\"dataframe\">\n",
              "  <thead>\n",
              "    <tr style=\"text-align: right;\">\n",
              "      <th></th>\n",
              "      <th>id</th>\n",
              "      <th>sms_text</th>\n",
              "      <th>spam</th>\n",
              "    </tr>\n",
              "  </thead>\n",
              "  <tbody>\n",
              "    <tr>\n",
              "      <th>0</th>\n",
              "      <td>1</td>\n",
              "      <td>Hope you are having a good week. Just checking in</td>\n",
              "      <td>0</td>\n",
              "    </tr>\n",
              "    <tr>\n",
              "      <th>1</th>\n",
              "      <td>2</td>\n",
              "      <td>K..give back my thanks.</td>\n",
              "      <td>0</td>\n",
              "    </tr>\n",
              "    <tr>\n",
              "      <th>2</th>\n",
              "      <td>3</td>\n",
              "      <td>Am also doing in cbe only. But have to pay.</td>\n",
              "      <td>0</td>\n",
              "    </tr>\n",
              "    <tr>\n",
              "      <th>3</th>\n",
              "      <td>4</td>\n",
              "      <td>complimentary 4 STAR Ibiza Holiday or £10,000 ...</td>\n",
              "      <td>1</td>\n",
              "    </tr>\n",
              "    <tr>\n",
              "      <th>4</th>\n",
              "      <td>5</td>\n",
              "      <td>okmail: Dear Dave this is your final notice to...</td>\n",
              "      <td>1</td>\n",
              "    </tr>\n",
              "  </tbody>\n",
              "</table>\n",
              "</div>"
            ],
            "text/plain": [
              "   id                                           sms_text  spam\n",
              "0   1  Hope you are having a good week. Just checking in     0\n",
              "1   2                            K..give back my thanks.     0\n",
              "2   3        Am also doing in cbe only. But have to pay.     0\n",
              "3   4  complimentary 4 STAR Ibiza Holiday or £10,000 ...     1\n",
              "4   5  okmail: Dear Dave this is your final notice to...     1"
            ]
          },
          "metadata": {
            "tags": []
          },
          "execution_count": 9
        }
      ]
    },
    {
      "cell_type": "code",
      "metadata": {
        "id": "Odo8Dvoq3mTs",
        "colab_type": "code",
        "colab": {}
      },
      "source": [
        "# ensemble\n",
        "\n",
        "import spacy\n",
        "\n",
        "# Create an empty model\n",
        "nlp = spacy.blank(\"en\")\n",
        "\n",
        "# Create the TextCategorizer with exclusive classes and \"bow\" architecture\n",
        "textcat = nlp.create_pipe(\n",
        "              \"textcat\",\n",
        "              config={\n",
        "                \"exclusive_classes\": True,\n",
        "                \"architecture\": \"ensemble\",\n",
        "                \"ngram_size\" : 4,\n",
        "                \"attr\":\"lower\"})\n",
        "\n",
        "# Add the TextCategorizer to the empty model\n",
        "nlp.add_pipe(textcat)"
      ],
      "execution_count": 0,
      "outputs": []
    },
    {
      "cell_type": "code",
      "metadata": {
        "id": "2m9x8Hj43mTv",
        "colab_type": "code",
        "colab": {}
      },
      "source": [
        "from sklearn.model_selection import train_test_split\n",
        "\n",
        "X = df['sms_text']\n",
        "y = df['spam']\n",
        "\n",
        "X_train, X_val, y_train, y_val = train_test_split(X, y, test_size=0.2, random_state=42)"
      ],
      "execution_count": 0,
      "outputs": []
    },
    {
      "cell_type": "code",
      "metadata": {
        "id": "iKsnO0Sm3mTx",
        "colab_type": "code",
        "outputId": "f2fbc1cf-b702-4d27-ed8c-5e41c6cd5664",
        "colab": {
          "base_uri": "https://localhost:8080/",
          "height": 374
        }
      },
      "source": [
        "X_train.head()\n",
        "y_train.head()\n",
        "X_val.head()\n",
        "y_val.head()"
      ],
      "execution_count": 0,
      "outputs": [
        {
          "output_type": "execute_result",
          "data": {
            "text/plain": [
              "4227    Cashbin.co.uk (Get lots of cash this weekend!)...\n",
              "4676         Once free call me sir. I am waiting for you.\n",
              "800     Keep yourself safe for me because I need you a...\n",
              "3671    You call him and tell now infront of them. Cal...\n",
              "4193                    I reach home safe n sound liao...\n",
              "Name: sms_text, dtype: object"
            ]
          },
          "metadata": {
            "tags": []
          },
          "execution_count": 12
        },
        {
          "output_type": "execute_result",
          "data": {
            "text/plain": [
              "4227    1\n",
              "4676    0\n",
              "800     0\n",
              "3671    0\n",
              "4193    0\n",
              "Name: spam, dtype: int64"
            ]
          },
          "metadata": {
            "tags": []
          },
          "execution_count": 12
        },
        {
          "output_type": "execute_result",
          "data": {
            "text/plain": [
              "1501        And he's apparently bffs with carly quick now\n",
              "2586                       No problem. How are you doing?\n",
              "2653                               Y de asking like this.\n",
              "1055    07732584351 - Rodger Burns - MSG = We tried to...\n",
              "705     Lol! U drunkard! Just doing my hair at d momen...\n",
              "Name: sms_text, dtype: object"
            ]
          },
          "metadata": {
            "tags": []
          },
          "execution_count": 12
        },
        {
          "output_type": "execute_result",
          "data": {
            "text/plain": [
              "1501    0\n",
              "2586    0\n",
              "2653    0\n",
              "1055    1\n",
              "705     0\n",
              "Name: spam, dtype: int64"
            ]
          },
          "metadata": {
            "tags": []
          },
          "execution_count": 12
        }
      ]
    },
    {
      "cell_type": "code",
      "metadata": {
        "id": "y4yRGw8N3mT0",
        "colab_type": "code",
        "outputId": "fdf6404d-a6fb-4c3c-b555-43b88914df55",
        "colab": {
          "base_uri": "https://localhost:8080/",
          "height": 34
        }
      },
      "source": [
        "# Add labels to text classifier\n",
        "textcat.add_label(\"ham\")\n",
        "textcat.add_label(\"spam\")"
      ],
      "execution_count": 0,
      "outputs": [
        {
          "output_type": "execute_result",
          "data": {
            "text/plain": [
              "1"
            ]
          },
          "metadata": {
            "tags": []
          },
          "execution_count": 13
        },
        {
          "output_type": "execute_result",
          "data": {
            "text/plain": [
              "1"
            ]
          },
          "metadata": {
            "tags": []
          },
          "execution_count": 13
        }
      ]
    },
    {
      "cell_type": "code",
      "metadata": {
        "id": "VQzuBM893mT2",
        "colab_type": "code",
        "colab": {}
      },
      "source": [
        "train_texts = X_train.values\n",
        "train_labels = [{'cats': { 'ham' : spam == 0 ,\n",
        "                           'spam' : spam == 1 }} \n",
        "                for spam in y_train]"
      ],
      "execution_count": 0,
      "outputs": []
    },
    {
      "cell_type": "code",
      "metadata": {
        "id": "OwS18kUK3mT4",
        "colab_type": "code",
        "outputId": "97b806f7-8ddd-48f2-9cb2-51512cbc1856",
        "colab": {
          "base_uri": "https://localhost:8080/",
          "height": 139
        }
      },
      "source": [
        "train_data = list(zip(train_texts, train_labels))\n",
        "train_data[:3]"
      ],
      "execution_count": 0,
      "outputs": [
        {
          "output_type": "execute_result",
          "data": {
            "text/plain": [
              "[('Cashbin.co.uk (Get lots of cash this weekend!) www.cashbin.co.uk Dear Welcome to the weekend We have got our biggest and best EVER cash give away!! These..',\n",
              "  {'cats': {'ham': False, 'spam': True}}),\n",
              " ('Once free call me sir. I am waiting for you.',\n",
              "  {'cats': {'ham': True, 'spam': False}}),\n",
              " (\"Keep yourself safe for me because I need you and I miss you already and I envy everyone that see's you in real life\",\n",
              "  {'cats': {'ham': True, 'spam': False}})]"
            ]
          },
          "metadata": {
            "tags": []
          },
          "execution_count": 15
        }
      ]
    },
    {
      "cell_type": "code",
      "metadata": {
        "id": "CnhlPd-Y3mT6",
        "colab_type": "code",
        "outputId": "e767d119-1708-4b26-ac4e-7c9c266377d7",
        "colab": {
          "base_uri": "https://localhost:8080/",
          "height": 34
        }
      },
      "source": [
        "import random\n",
        "from spacy.util import minibatch\n",
        "\n",
        "random.seed(1)\n",
        "spacy.util.fix_random_seed(1)\n",
        "optimizer = nlp.begin_training()\n",
        "\n",
        "losses = {}\n",
        "for epoch in range(1):  #was 30\n",
        "    random.shuffle(train_data)\n",
        "    # Create the batch generator with batch size = 5\n",
        "    batches = minibatch(train_data, size=5)\n",
        "    # Iterate through minibatches\n",
        "    for batch in batches:\n",
        "        # Each batch is a list of (text, label) but we need to\n",
        "        # send separate lists for texts and labels to update().\n",
        "        # This is a quick way to split a list of tuples into lists\n",
        "        texts, labels = zip(*batch)\n",
        "        nlp.update(texts, labels, sgd=optimizer, losses=losses)\n",
        "    print(losses)"
      ],
      "execution_count": 0,
      "outputs": [
        {
          "output_type": "stream",
          "text": [
            "{'textcat': 0.4286070488141401}\n"
          ],
          "name": "stdout"
        }
      ]
    },
    {
      "cell_type": "code",
      "metadata": {
        "id": "-bKL70Z83mT8",
        "colab_type": "code",
        "outputId": "8d5f9adc-6a19-4fdd-e901-6bc691adaa09",
        "colab": {
          "base_uri": "https://localhost:8080/",
          "height": 136
        }
      },
      "source": [
        "texts = X_val \n",
        "\n",
        "docs = [nlp.tokenizer(text) for text in texts]\n",
        "# Use textcat to get the scores for each doc\n",
        "textcat = nlp.get_pipe('textcat')\n",
        "scores, _ = textcat.predict(docs)\n",
        "\n",
        "print(scores)"
      ],
      "execution_count": 0,
      "outputs": [
        {
          "output_type": "stream",
          "text": [
            "[[9.9275982e-01 7.2401869e-03]\n",
            " [9.9980718e-01 1.9278844e-04]\n",
            " [9.9909937e-01 9.0065692e-04]\n",
            " ...\n",
            " [9.9939585e-01 6.0414831e-04]\n",
            " [9.7878540e-01 2.1214548e-02]\n",
            " [9.9931717e-01 6.8281544e-04]]\n"
          ],
          "name": "stdout"
        }
      ]
    },
    {
      "cell_type": "code",
      "metadata": {
        "id": "Cr8iRboq3mUA",
        "colab_type": "code",
        "colab": {}
      },
      "source": [
        "# From the scores, find the label with the highest score/probability\n",
        "predicted_labels = scores.argmax(axis=1)\n"
      ],
      "execution_count": 0,
      "outputs": []
    },
    {
      "cell_type": "code",
      "metadata": {
        "id": "XlSgmhcx3mUC",
        "colab_type": "code",
        "outputId": "a5881bff-8f3b-4238-a50a-64d9589cfbda",
        "colab": {
          "base_uri": "https://localhost:8080/",
          "height": 289
        }
      },
      "source": [
        "from sklearn.metrics import confusion_matrix, classification_report, f1_score\n",
        "\n",
        "pred_val = predicted_labels\n",
        "\n",
        "print (\"Confusion matrix:\")\n",
        "print(confusion_matrix(y_val, pred_val))\n",
        "\n",
        "print(\"\\nF1 Score = {:.2f}\".format(f1_score(y_val, pred_val)))\n",
        "print(classification_report(y_val, pred_val))\n",
        "\n",
        "print(\"\\nF1 Score (Kaggle) = {:.6f}\".format(f1_score(y_val, pred_val, average='micro')))\n"
      ],
      "execution_count": 0,
      "outputs": [
        {
          "output_type": "stream",
          "text": [
            "Confusion matrix:\n",
            "[[868   2]\n",
            " [  9 121]]\n",
            "\n",
            "F1 Score = 0.96\n",
            "              precision    recall  f1-score   support\n",
            "\n",
            "           0       0.99      1.00      0.99       870\n",
            "           1       0.98      0.93      0.96       130\n",
            "\n",
            "    accuracy                           0.99      1000\n",
            "   macro avg       0.99      0.96      0.98      1000\n",
            "weighted avg       0.99      0.99      0.99      1000\n",
            "\n",
            "\n",
            "F1 Score (Kaggle) = 0.989000\n"
          ],
          "name": "stdout"
        }
      ]
    },
    {
      "cell_type": "code",
      "metadata": {
        "id": "hu-oO7dR3mUD",
        "colab_type": "code",
        "outputId": "6753b67d-d2c2-4316-a562-2058d867f7da",
        "colab": {
          "base_uri": "https://localhost:8080/",
          "height": 204
        }
      },
      "source": [
        ""
      ],
      "execution_count": 0,
      "outputs": [
        {
          "output_type": "stream",
          "text": [
            "F1 Score = 0.96\n",
            "F1 Score (Kaggle) = 0.989000\n",
            "              precision    recall  f1-score   support\n",
            "\n",
            "           0       0.99      1.00      0.99       870\n",
            "           1       0.98      0.93      0.96       130\n",
            "\n",
            "    accuracy                           0.99      1000\n",
            "   macro avg       0.99      0.96      0.98      1000\n",
            "weighted avg       0.99      0.99      0.99      1000\n",
            "\n"
          ],
          "name": "stdout"
        }
      ]
    },
    {
      "cell_type": "code",
      "metadata": {
        "id": "bzI03VdY3mUF",
        "colab_type": "code",
        "colab": {}
      },
      "source": [
        "test_df = pd.read_csv(os.path.join(PATH, \"spamraw_test.csv\"))"
      ],
      "execution_count": 0,
      "outputs": []
    },
    {
      "cell_type": "code",
      "metadata": {
        "id": "5tuQVynW3mUH",
        "colab_type": "code",
        "outputId": "0c21e87e-9822-444e-ac8b-957eb91674fb",
        "colab": {
          "base_uri": "https://localhost:8080/",
          "height": 136
        }
      },
      "source": [
        "texts_test = test_df['sms_text']\n",
        "\n",
        "docs_test = [nlp.tokenizer(text) for text in texts_test]\n",
        "# Use textcat to get the scores for each doc\n",
        "textcat = nlp.get_pipe('textcat')\n",
        "test_scores, _ = textcat.predict(docs_test)\n",
        "\n",
        "print(test_scores)"
      ],
      "execution_count": 0,
      "outputs": [
        {
          "output_type": "stream",
          "text": [
            "[[1.49236395e-04 9.99850750e-01]\n",
            " [9.99997973e-01 2.03671993e-06]\n",
            " [9.99553978e-01 4.45978745e-04]\n",
            " ...\n",
            " [1.09682485e-04 9.99890327e-01]\n",
            " [7.96455801e-01 2.03544155e-01]\n",
            " [9.99839067e-01 1.60943717e-04]]\n"
          ],
          "name": "stdout"
        }
      ]
    },
    {
      "cell_type": "code",
      "metadata": {
        "id": "oB-46cyQ3mUJ",
        "colab_type": "code",
        "colab": {}
      },
      "source": [
        "# From the scores, find the label with the highest score/probability\n",
        "predicted_labels_test = test_scores.argmax(axis=1)\n"
      ],
      "execution_count": 0,
      "outputs": []
    },
    {
      "cell_type": "code",
      "metadata": {
        "id": "Yd9iRgFz3mUL",
        "colab_type": "code",
        "outputId": "fb1c9293-f8f0-42e6-ecf9-330b4d9a2e46",
        "colab": {
          "base_uri": "https://localhost:8080/",
          "height": 459
        }
      },
      "source": [
        "predicted_labels_test"
      ],
      "execution_count": 0,
      "outputs": [
        {
          "output_type": "execute_result",
          "data": {
            "text/plain": [
              "array([1, 0, 0, 0, 0, 0, 0, 0, 0, 0, 0, 0, 0, 0, 1, 0, 0, 0, 0, 0, 0, 0,\n",
              "       0, 0, 0, 0, 1, 0, 0, 1, 0, 0, 0, 0, 0, 0, 0, 0, 0, 0, 0, 0, 0, 0,\n",
              "       0, 0, 0, 0, 0, 0, 0, 0, 0, 0, 0, 0, 0, 0, 0, 0, 0, 0, 0, 0, 1, 1,\n",
              "       0, 0, 1, 0, 0, 0, 0, 0, 0, 0, 0, 1, 0, 0, 0, 0, 1, 0, 0, 1, 0, 0,\n",
              "       0, 0, 0, 0, 0, 0, 0, 0, 0, 0, 0, 1, 0, 0, 0, 0, 0, 0, 0, 0, 0, 0,\n",
              "       0, 0, 0, 0, 0, 0, 0, 0, 0, 0, 0, 1, 0, 0, 1, 0, 0, 0, 0, 0, 0, 0,\n",
              "       0, 0, 0, 1, 0, 0, 0, 0, 0, 0, 0, 0, 0, 0, 0, 0, 0, 0, 0, 0, 0, 0,\n",
              "       0, 0, 0, 0, 0, 0, 0, 0, 1, 0, 0, 0, 0, 0, 1, 0, 0, 0, 0, 0, 0, 0,\n",
              "       0, 0, 0, 0, 0, 0, 0, 0, 0, 0, 0, 0, 0, 0, 0, 0, 0, 0, 0, 0, 0, 1,\n",
              "       0, 0, 0, 1, 0, 1, 0, 0, 0, 0, 1, 0, 1, 0, 0, 0, 0, 0, 0, 0, 0, 0,\n",
              "       0, 0, 0, 1, 0, 0, 0, 0, 0, 0, 0, 0, 0, 0, 0, 0, 0, 0, 0, 0, 0, 0,\n",
              "       0, 0, 1, 0, 0, 0, 0, 0, 0, 0, 0, 0, 0, 0, 1, 1, 0, 0, 0, 0, 0, 0,\n",
              "       0, 0, 0, 0, 0, 1, 0, 0, 0, 0, 0, 0, 0, 0, 0, 0, 1, 0, 0, 0, 0, 0,\n",
              "       0, 0, 0, 0, 0, 0, 0, 0, 1, 0, 0, 0, 0, 1, 0, 0, 0, 1, 0, 0, 0, 0,\n",
              "       0, 0, 0, 0, 0, 0, 0, 0, 0, 0, 0, 0, 0, 1, 0, 0, 0, 0, 0, 0, 0, 1,\n",
              "       0, 0, 0, 0, 0, 0, 0, 0, 0, 0, 0, 0, 1, 1, 0, 0, 0, 0, 0, 1, 0, 0,\n",
              "       0, 0, 0, 0, 0, 0, 0, 0, 0, 1, 0, 1, 0, 0, 0, 1, 0, 0, 0, 0, 0, 0,\n",
              "       0, 0, 1, 0, 0, 0, 0, 0, 1, 0, 0, 1, 0, 0, 1, 0, 0, 0, 0, 0, 0, 0,\n",
              "       0, 0, 0, 0, 0, 0, 0, 0, 0, 0, 1, 0, 0, 0, 0, 1, 0, 0, 0, 0, 0, 0,\n",
              "       0, 1, 0, 0, 0, 0, 0, 0, 1, 0, 0, 0, 0, 0, 1, 0, 0, 0, 0, 0, 1, 0,\n",
              "       0, 0, 1, 0, 0, 0, 0, 0, 0, 0, 0, 0, 0, 0, 0, 0, 0, 0, 0, 0, 0, 0,\n",
              "       0, 0, 0, 0, 0, 0, 0, 0, 1, 0, 0, 0, 1, 0, 0, 0, 0, 0, 0, 0, 0, 0,\n",
              "       0, 0, 0, 0, 1, 1, 0, 0, 1, 1, 0, 0, 1, 0, 0, 0, 1, 0, 0, 0, 0, 0,\n",
              "       0, 0, 1, 0, 0, 1, 0, 1, 0, 0, 0, 0, 0, 1, 0, 1, 0, 0, 0, 1, 0, 0,\n",
              "       0, 0, 0, 0, 1, 0, 0, 0, 0, 0, 1, 0, 0, 0, 0, 0, 0, 0, 0, 0, 0, 0,\n",
              "       0, 1, 0, 0, 0, 0, 1, 0, 0])"
            ]
          },
          "metadata": {
            "tags": []
          },
          "execution_count": 33
        }
      ]
    },
    {
      "cell_type": "code",
      "metadata": {
        "id": "XLCJDJvY3mUN",
        "colab_type": "code",
        "outputId": "a12e73ba-f4d1-46f7-f2bd-2543658529e7",
        "colab": {}
      },
      "source": [
        "my_submission = pd.DataFrame({'id': test_df.id, 'predicted': predicted_labels_test})\n",
        "\n",
        "my_submission.head()\n",
        "\n",
        "# you could use any filename. We choose submission here\n",
        "my_submission.to_csv('submission-bakus.csv', index=False)"
      ],
      "execution_count": 0,
      "outputs": [
        {
          "output_type": "execute_result",
          "data": {
            "text/html": [
              "<div>\n",
              "<style scoped>\n",
              "    .dataframe tbody tr th:only-of-type {\n",
              "        vertical-align: middle;\n",
              "    }\n",
              "\n",
              "    .dataframe tbody tr th {\n",
              "        vertical-align: top;\n",
              "    }\n",
              "\n",
              "    .dataframe thead th {\n",
              "        text-align: right;\n",
              "    }\n",
              "</style>\n",
              "<table border=\"1\" class=\"dataframe\">\n",
              "  <thead>\n",
              "    <tr style=\"text-align: right;\">\n",
              "      <th></th>\n",
              "      <th>id</th>\n",
              "      <th>predicted</th>\n",
              "    </tr>\n",
              "  </thead>\n",
              "  <tbody>\n",
              "    <tr>\n",
              "      <th>0</th>\n",
              "      <td>12000</td>\n",
              "      <td>1</td>\n",
              "    </tr>\n",
              "    <tr>\n",
              "      <th>1</th>\n",
              "      <td>12001</td>\n",
              "      <td>0</td>\n",
              "    </tr>\n",
              "    <tr>\n",
              "      <th>2</th>\n",
              "      <td>12002</td>\n",
              "      <td>0</td>\n",
              "    </tr>\n",
              "    <tr>\n",
              "      <th>3</th>\n",
              "      <td>12003</td>\n",
              "      <td>0</td>\n",
              "    </tr>\n",
              "    <tr>\n",
              "      <th>4</th>\n",
              "      <td>12004</td>\n",
              "      <td>0</td>\n",
              "    </tr>\n",
              "  </tbody>\n",
              "</table>\n",
              "</div>"
            ],
            "text/plain": [
              "      id  predicted\n",
              "0  12000          1\n",
              "1  12001          0\n",
              "2  12002          0\n",
              "3  12003          0\n",
              "4  12004          0"
            ]
          },
          "metadata": {
            "tags": []
          },
          "execution_count": 23
        }
      ]
    },
    {
      "cell_type": "code",
      "metadata": {
        "id": "trHHDJxp3mUP",
        "colab_type": "code",
        "colab": {}
      },
      "source": [
        "pred_test = predicted_labels_test"
      ],
      "execution_count": 0,
      "outputs": []
    },
    {
      "cell_type": "code",
      "metadata": {
        "id": "ScAC0wnTh5ji",
        "colab_type": "code",
        "colab": {}
      },
      "source": [
        "import pickle\n",
        "pickle.dump(pred_test, open(os.path.join(PATH, \"pred_test_backus.pickle\"), \"wb\"))"
      ],
      "execution_count": 0,
      "outputs": []
    },
    {
      "cell_type": "code",
      "metadata": {
        "id": "p1gLhyry3mUR",
        "colab_type": "code",
        "outputId": "7e5fb87d-4f06-497a-cd5e-31c036d0a8bd",
        "colab": {
          "base_uri": "https://localhost:8080/",
          "height": 272
        }
      },
      "source": [
        "#Solution - Kaggle: 99.105 | 98.7478\n",
        "df_sol = pd.read_csv(os.path.join(PATH, \"spamraw_test_solutions.csv\"))\n",
        "y_sol = df_sol['spam']\n",
        "\n",
        "print(\"Solution:\")\n",
        "print(\"---------\")\n",
        "print(\"F1 Score = {:.6f}\".format(f1_score(y_sol, pred_test, average='micro')))\n",
        "print()\n",
        "print(classification_report(y_sol, pred_test))\n",
        "confusion_matrix(y_sol, pred_test)"
      ],
      "execution_count": 0,
      "outputs": [
        {
          "output_type": "stream",
          "text": [
            "Solution:\n",
            "---------\n",
            "F1 Score = 0.987478\n",
            "\n",
            "              precision    recall  f1-score   support\n",
            "\n",
            "           0       0.99      1.00      0.99       485\n",
            "           1       1.00      0.91      0.95        74\n",
            "\n",
            "    accuracy                           0.99       559\n",
            "   macro avg       0.99      0.95      0.97       559\n",
            "weighted avg       0.99      0.99      0.99       559\n",
            "\n"
          ],
          "name": "stdout"
        },
        {
          "output_type": "execute_result",
          "data": {
            "text/plain": [
              "array([[485,   0],\n",
              "       [  7,  67]])"
            ]
          },
          "metadata": {
            "tags": []
          },
          "execution_count": 43
        }
      ]
    },
    {
      "cell_type": "code",
      "metadata": {
        "id": "fuCZqqzL3mUT",
        "colab_type": "code",
        "colab": {}
      },
      "source": [
        ""
      ],
      "execution_count": 0,
      "outputs": []
    }
  ]
}